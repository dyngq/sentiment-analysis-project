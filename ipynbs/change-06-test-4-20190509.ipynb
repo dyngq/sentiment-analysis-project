{
 "cells": [
  {
   "cell_type": "code",
   "execution_count": 1,
   "metadata": {
    "_cell_guid": "b1076dfc-b9ad-4769-8c92-a6c4dae69d19",
    "_uuid": "8f2839f25d086af736a60e9eeb907d3b93b6e0e5"
   },
   "outputs": [
    {
     "name": "stderr",
     "output_type": "stream",
     "text": [
      "Using TensorFlow backend.\n",
      "/opt/conda/lib/python3.6/site-packages/smart_open/ssh.py:34: UserWarning: paramiko missing, opening SSH/SCP/SFTP paths will be disabled.  `pip install paramiko` to suppress\n",
      "  warnings.warn('paramiko missing, opening SSH/SCP/SFTP paths will be disabled.  `pip install paramiko` to suppress')\n"
     ]
    }
   ],
   "source": [
    "import numpy as np \n",
    "import pandas as pd \n",
    "import matplotlib.pyplot as plt\n",
    "import seaborn as sns\n",
    "import nltk\n",
    "from nltk.corpus import stopwords                \n",
    "from nltk import word_tokenize, sent_tokenize\n",
    "import re\n",
    "# from nltk.stem import WordNetLemmatizer # 同义词转述\n",
    "from nltk.stem import WordNetLemmatizer # 同义词转述\n",
    "\n",
    "import keras\n",
    "from keras import models\n",
    "from keras.preprocessing.text import one_hot, Tokenizer\n",
    "from keras.preprocessing.sequence import pad_sequences\n",
    "from keras.models import Sequential,load_model\n",
    "from keras.layers import Dense, Flatten, Embedding, LSTM, SpatialDropout1D, Input, Bidirectional,Dropout\n",
    "from keras.layers import Dropout , Activation, GRU, TimeDistributed,Conv1D\n",
    "from keras.layers import Bidirectional, GlobalMaxPool1D,MaxPooling1D\n",
    "from keras.models import Model, Sequential\n",
    "from keras.layers import Convolution1D\n",
    "from keras import initializers, regularizers, constraints, optimizers, layers\n",
    "from sklearn.model_selection import train_test_split\n",
    "from keras.callbacks import EarlyStopping, ReduceLROnPlateau\n",
    "from keras.regularizers import l2\n",
    "\n",
    "from keras import backend as K\n",
    "\n",
    "import gensim\n",
    "from gensim.models import Word2Vec\n",
    "\n",
    "from keras.engine.topology import Layer, InputSpec"
   ]
  },
  {
   "cell_type": "code",
   "execution_count": 2,
   "metadata": {},
   "outputs": [
    {
     "name": "stdout",
     "output_type": "stream",
     "text": [
      "imdb-review-dataset  kumarmanoj-bag-of-words-meets-bags-of-popcorn\r\n"
     ]
    }
   ],
   "source": [
    "!ls '../input/'"
   ]
  },
  {
   "cell_type": "code",
   "execution_count": 3,
   "metadata": {},
   "outputs": [
    {
     "name": "stdout",
     "output_type": "stream",
     "text": [
      "100000\n",
      "100000\n",
      "200000\n"
     ]
    }
   ],
   "source": [
    "# import os\n",
    "# print(os.listdir())\n",
    "\n",
    "raw_train_data_labeled = pd.read_csv(\"../input/kumarmanoj-bag-of-words-meets-bags-of-popcorn/labeledTrainData.tsv\", header=0, delimiter=\"\\t\", quoting=3)\n",
    "raw_train_data_unlabeled = pd.read_csv(\"../input/kumarmanoj-bag-of-words-meets-bags-of-popcorn/unlabeledTrainData.tsv\", header=0, delimiter=\"\\t\", quoting=3)\n",
    "raw_test_data = pd.read_csv(\"../input/kumarmanoj-bag-of-words-meets-bags-of-popcorn/testData.tsv\", header=0, delimiter=\"\\t\", quoting=3)\n",
    "\n",
    "imdb_data = pd.read_csv('../input/imdb-review-dataset/imdb_master.csv',encoding=\"latin-1\", index_col=0)\n",
    "print(len(imdb_data))\n",
    "\n",
    "imdb_data = imdb_data.drop([\"type\",\"file\"],axis=1)\n",
    "imdb_data['sentiment'] = imdb_data['label'].map({\"neg\":0, \"pos\":1})\n",
    "imdb_data = imdb_data.drop([\"label\",'sentiment'],axis=1)\n",
    "# imdb_data = imdb_data.dropna() # 删除缺失数据\n",
    "raw_train_data_labeled = raw_train_data_labeled.drop([\"id\",\"sentiment\"],axis=1)\n",
    "raw_train_data_unlabeled = raw_train_data_unlabeled.drop([\"id\"],axis=1)\n",
    "raw_test_data = raw_test_data.drop([\"id\"],axis=1)\n",
    "# print(raw_test_data.head())\n",
    "# = imdb_data['review']\n",
    "\n",
    "review_data = pd.concat([imdb_data,raw_train_data_unlabeled,raw_train_data_labeled,raw_test_data],ignore_index=True)\n",
    "print(len(imdb_data))\n",
    "print(len(review_data))"
   ]
  },
  {
   "cell_type": "code",
   "execution_count": 4,
   "metadata": {},
   "outputs": [
    {
     "data": {
      "text/plain": [
       "pandas.core.series.Series"
      ]
     },
     "execution_count": 4,
     "metadata": {},
     "output_type": "execute_result"
    }
   ],
   "source": [
    "review_data_2 = imdb_data['review'].append(raw_train_data_unlabeled['review'])\n",
    "review_data_2 = review_data_2.append(raw_train_data_labeled['review'])\n",
    "review_data_2 = review_data_2.append(raw_test_data['review'])\n",
    "\n",
    "type(review_data_2)"
   ]
  },
  {
   "cell_type": "code",
   "execution_count": 5,
   "metadata": {},
   "outputs": [],
   "source": [
    "import string\n",
    "\n",
    "review_lines = list()\n",
    "lines = review_data_2.values.tolist()\n",
    "lemmatizer = WordNetLemmatizer()\n",
    "# i = 1\n",
    "for line in lines:\n",
    "#     i = i + 1\n",
    "    '''\n",
    "    breaks line into it's sub parts like each word and comma etc,\n",
    "    https://pythonspot.com/tokenizing-words-and-sentences-with-nltk/\n",
    "    '''\n",
    "    tokens = word_tokenize(line)   \n",
    "#     print(tokens)\n",
    "     #convert to lower case\n",
    "    tokens = [w.lower() for w in tokens]\n",
    "    tokens = [lemmatizer.lemmatize(token, \"v\") for token in tokens] ## 同义词转述\n",
    "\n",
    "    #remove punctuation from each word\n",
    "    # brief detail: https://pythonadventures.wordpress.com/2017/02/05/remove-punctuations-from-a-text/\n",
    "    table = str.maketrans('','', string.punctuation)\n",
    "    stripped = [w.translate(table) for w in tokens]\n",
    "     \n",
    "    # remove remaining tokens that are not alphabetic\n",
    "    words = [w for w in stripped if w.isalpha()]\n",
    "    \n",
    "    # filter out stop words\n",
    "    stop_words = set(stopwords.words('english'))\n",
    "    words = [w for w in words if ((w not in stop_words)and(w!='br')and(len(w)>1))]\n",
    "    \n",
    "    review_lines.append(words)\n",
    "    \n",
    "#     if (i>5):\n",
    "#         break"
   ]
  },
  {
   "cell_type": "code",
   "execution_count": 6,
   "metadata": {},
   "outputs": [
    {
     "name": "stdout",
     "output_type": "stream",
     "text": [
      "word_2_vector is training ...\n",
      "word_2_vector finished training\n"
     ]
    }
   ],
   "source": [
    "import gensim\n",
    "\n",
    "embedding_vector_size = 100\n",
    "# now training embeddings for each word \n",
    "print('word_2_vector is training ...')\n",
    "model_word_2_vector = gensim.models.Word2Vec(sentences = review_lines, \n",
    "                                             size=embedding_vector_size, \n",
    "                                             min_count=1, \n",
    "                                             window=7, \n",
    "                                             workers=4, \n",
    "                                             sg = 1,\n",
    "                                            )\n",
    "print('word_2_vector finished training')\n",
    "# to get total number of unique words"
   ]
  },
  {
   "cell_type": "code",
   "execution_count": 7,
   "metadata": {},
   "outputs": [],
   "source": [
    "model_word_2_vector.save('../input/model_word_2_vector_02.model')"
   ]
  },
  {
   "cell_type": "code",
   "execution_count": 8,
   "metadata": {},
   "outputs": [
    {
     "data": {
      "text/plain": [
       "200000"
      ]
     },
     "execution_count": 8,
     "metadata": {},
     "output_type": "execute_result"
    }
   ],
   "source": [
    "len(review_lines)\n",
    "# review_lines[:2][1]"
   ]
  },
  {
   "cell_type": "code",
   "execution_count": 9,
   "metadata": {},
   "outputs": [
    {
     "name": "stdout",
     "output_type": "stream",
     "text": [
      "vocab size: 193254\n"
     ]
    }
   ],
   "source": [
    "words = list(model_word_2_vector.wv.vocab)\n",
    "\n",
    "print(\"vocab size:\", len(words))"
   ]
  },
  {
   "cell_type": "code",
   "execution_count": 10,
   "metadata": {},
   "outputs": [
    {
     "name": "stdout",
     "output_type": "stream",
     "text": [
      "50000\n"
     ]
    }
   ],
   "source": [
    "review_lines = review_lines[150000:]\n",
    "print(len(review_lines))"
   ]
  },
  {
   "cell_type": "code",
   "execution_count": 11,
   "metadata": {},
   "outputs": [
    {
     "name": "stdout",
     "output_type": "stream",
     "text": [
      "117.8178\n"
     ]
    },
    {
     "data": {
      "image/png": "[encoded data removed]",
      "text/plain": [
       "<Figure size 432x288 with 1 Axes>"
      ]
     },
     "metadata": {},
     "output_type": "display_data"
    }
   ],
   "source": [
    "#len(sequence)\n",
    "leng=0\n",
    "length = [(leng + len(x)) for x in review_lines]\n",
    "plt.hist(length)\n",
    "plt.xlabel('length of words')\n",
    "plt.ylabel('frequency')\n",
    "\n",
    "import math\n",
    "avg_length = sum(length)/len(review_lines)\n",
    "\n",
    "# if words are more than max_length then they are skipped, if less than padding with 0 is done\n",
    "print(avg_length)\n",
    "max_len = math.ceil(avg_length) "
   ]
  },
  {
   "cell_type": "code",
   "execution_count": 12,
   "metadata": {},
   "outputs": [],
   "source": [
    "max_features = 6000\n",
    "tokenizer = Tokenizer(num_words=max_features)       #keeps 6000 most common words\n",
    "train_test_data = review_lines                       # contains word tokens extracted from lines\n",
    "tokenizer.fit_on_texts(train_test_data)\n",
    "sequence = tokenizer.texts_to_sequences(train_test_data)\n",
    "train_test_data = pad_sequences(sequence, maxlen = max_len)\n",
    "\n",
    "# Preparing embedding matrix\n",
    "vocab_size = len(tokenizer.word_index)+1\n",
    "embedding_matrix = np.zeros((vocab_size, embedding_vector_size))\n",
    "# +1 is done because i starts from 1 instead of 0, and goes till len(vocab)\n",
    "for  word, i in tokenizer.word_index.items():\n",
    "    embedding_vector = model_word_2_vector.wv[word]\n",
    "    if embedding_vector is not None:\n",
    "        embedding_matrix[i] = embedding_vector"
   ]
  },
  {
   "cell_type": "code",
   "execution_count": 13,
   "metadata": {},
   "outputs": [
    {
     "name": "stdout",
     "output_type": "stream",
     "text": [
      "25000\n",
      "25000\n"
     ]
    }
   ],
   "source": [
    "raw_train_data_labeled = pd.read_csv(\"../input/kumarmanoj-bag-of-words-meets-bags-of-popcorn/labeledTrainData.tsv\", header=0, delimiter=\"\\t\", quoting=3)\n",
    "raw_test_data = pd.read_csv(\"../input/kumarmanoj-bag-of-words-meets-bags-of-popcorn/testData.tsv\", header=0, delimiter=\"\\t\", quoting=3)\n",
    "\n",
    "\n",
    "print(len(raw_train_data_labeled))\n",
    "print(len(raw_test_data))\n",
    "\n",
    "X_train = train_test_data[5000:25000,:]\n",
    "X_test = train_test_data[:5000,:]\n",
    "# X = X.reshape(-1,123)\n",
    "y_train = raw_train_data_labeled['sentiment'][5000:25000]\n",
    "y_test = raw_train_data_labeled['sentiment'][:5000]"
   ]
  },
  {
   "cell_type": "code",
   "execution_count": 14,
   "metadata": {},
   "outputs": [],
   "source": [
    "class AttLayer(Layer):\n",
    "    def __init__(self, **kwargs):\n",
    "        super(AttLayer, self).__init__(** kwargs)\n",
    "\n",
    "    def build(self, input_shape):\n",
    "        assert len(input_shape)==3\n",
    "        # W.shape = (time_steps, time_steps)\n",
    "        self.W = self.add_weight(name='att_weight', \n",
    "                                 shape=(input_shape[1], input_shape[1]),\n",
    "                                 initializer='uniform',\n",
    "                                 trainable=True)\n",
    "        self.b = self.add_weight(name='att_bias', \n",
    "                                 shape=(input_shape[1],),\n",
    "                                 initializer='uniform',\n",
    "                                 trainable=True)\n",
    "        super(AttLayer, self).build(input_shape)\n",
    "\n",
    "    def call(self, inputs):\n",
    "        # inputs.shape = (batch_size, time_steps, seq_len)\n",
    "        x = K.permute_dimensions(inputs, (0, 2, 1))\n",
    "        # x.shape = (batch_size, seq_len, time_steps)\n",
    "        a = K.softmax(K.tanh(K.dot(x, self.W) + self.b))\n",
    "        outputs = K.permute_dimensions(a * x, (0, 2, 1))\n",
    "        outputs = K.sum(outputs, axis=1)\n",
    "        return outputs\n",
    "\n",
    "    def compute_output_shape(self, input_shape):\n",
    "        return input_shape[0], input_shape[2]"
   ]
  },
  {
   "cell_type": "code",
   "execution_count": 15,
   "metadata": {},
   "outputs": [
    {
     "name": "stdout",
     "output_type": "stream",
     "text": [
      "WARNING:tensorflow:From /opt/conda/lib/python3.6/site-packages/tensorflow/python/framework/op_def_library.py:263: colocate_with (from tensorflow.python.framework.ops) is deprecated and will be removed in a future version.\n",
      "Instructions for updating:\n",
      "Colocations handled automatically by placer.\n",
      "WARNING:tensorflow:From /opt/conda/lib/python3.6/site-packages/keras/backend/tensorflow_backend.py:3445: calling dropout (from tensorflow.python.ops.nn_ops) with keep_prob is deprecated and will be removed in a future version.\n",
      "Instructions for updating:\n",
      "Please use `rate` instead of `keep_prob`. Rate should be set to `rate = 1 - keep_prob`.\n",
      "__________________________________________________________________________________________________\n",
      "Layer (type)                    Output Shape         Param #     Connected to                     \n",
      "==================================================================================================\n",
      "input_1 (InputLayer)            (None, 118)          0                                            \n",
      "__________________________________________________________________________________________________\n",
      "embedding_1 (Embedding)         (None, 118, 100)     12468000    input_1[0][0]                    \n",
      "__________________________________________________________________________________________________\n",
      "conv1d_1 (Conv1D)               (None, 118, 100)     30100       embedding_1[0][0]                \n",
      "__________________________________________________________________________________________________\n",
      "conv1d_2 (Conv1D)               (None, 118, 100)     30100       conv1d_1[0][0]                   \n",
      "__________________________________________________________________________________________________\n",
      "conv1d_3 (Conv1D)               (None, 118, 100)     30100       conv1d_2[0][0]                   \n",
      "__________________________________________________________________________________________________\n",
      "add_1 (Add)                     (None, 118, 100)     0           conv1d_3[0][0]                   \n",
      "                                                                 embedding_1[0][0]                \n",
      "__________________________________________________________________________________________________\n",
      "bidirectional_1 (Bidirectional) (None, 118, 200)     120600      add_1[0][0]                      \n",
      "__________________________________________________________________________________________________\n",
      "att_layer_1 (AttLayer)          (None, 200)          14042       bidirectional_1[0][0]            \n",
      "__________________________________________________________________________________________________\n",
      "dense_1 (Dense)                 (None, 1)            201         att_layer_1[0][0]                \n",
      "==================================================================================================\n",
      "Total params: 12,693,143\n",
      "Trainable params: 12,693,143\n",
      "Non-trainable params: 0\n",
      "__________________________________________________________________________________________________\n",
      "None\n"
     ]
    }
   ],
   "source": [
    "sequence_input = Input(shape=(max_len,), dtype='int32')\n",
    "\n",
    "embedded_sequences = Embedding(vocab_size,\n",
    "                            embedding_vector_size,\n",
    "                            weights=[embedding_matrix],\n",
    "                            input_length=max_len,\n",
    "                            trainable= True )(sequence_input)\n",
    "\n",
    "conv1 = Conv1D(100,3,activation='relu',padding='same')(embedded_sequences)\n",
    "\n",
    "conv2 = Conv1D(100,3,activation='relu',padding='same')(conv1)\n",
    "\n",
    "conv3 = Conv1D(100,3,activation='relu',padding='same')(conv2)\n",
    "\n",
    "resnet = layers.add([conv3,embedded_sequences])\n",
    "\n",
    "gru = Bidirectional(GRU(100, dropout = 0.1, recurrent_dropout=0.1, return_sequences=True))(resnet)\n",
    "\n",
    "att = AttLayer()(gru)\n",
    "\n",
    "preds = Dense(1, activation='sigmoid')(att)\n",
    "\n",
    "model = Model(sequence_input, preds)\n",
    "\n",
    "learning_rate_reduction = ReduceLROnPlateau(monitor='val_acc', \n",
    "                                            patience=3, \n",
    "                                            verbose=1, \n",
    "                                            factor=0.5, \n",
    "                                            min_lr=0.00001)\n",
    "model.compile(optimizer='RMSprop', loss='binary_crossentropy', metrics=['acc'])\n",
    "print(model.summary())"
   ]
  },
  {
   "cell_type": "code",
   "execution_count": 16,
   "metadata": {},
   "outputs": [
    {
     "name": "stdout",
     "output_type": "stream",
     "text": [
      "WARNING:tensorflow:From /opt/conda/lib/python3.6/site-packages/tensorflow/python/ops/math_ops.py:3066: to_int32 (from tensorflow.python.ops.math_ops) is deprecated and will be removed in a future version.\n",
      "Instructions for updating:\n",
      "Use tf.cast instead.\n",
      "Train on 20000 samples, validate on 5000 samples\n",
      "Epoch 1/10\n",
      "20000/20000 [==============================] - 56s 3ms/step - loss: 0.4384 - acc: 0.7966 - val_loss: 0.3109 - val_acc: 0.8738\n",
      "Epoch 2/10\n",
      "20000/20000 [==============================] - 53s 3ms/step - loss: 0.3066 - acc: 0.8733 - val_loss: 0.3128 - val_acc: 0.8682\n",
      "Epoch 3/10\n",
      "20000/20000 [==============================] - 51s 3ms/step - loss: 0.2630 - acc: 0.8931 - val_loss: 0.2868 - val_acc: 0.8826\n",
      "Epoch 4/10\n",
      "20000/20000 [==============================] - 51s 3ms/step - loss: 0.2304 - acc: 0.9098 - val_loss: 0.3465 - val_acc: 0.8586\n",
      "Epoch 5/10\n",
      "20000/20000 [==============================] - 52s 3ms/step - loss: 0.2064 - acc: 0.9203 - val_loss: 0.2677 - val_acc: 0.8922\n",
      "Epoch 6/10\n",
      "20000/20000 [==============================] - 51s 3ms/step - loss: 0.1828 - acc: 0.9295 - val_loss: 0.3237 - val_acc: 0.8742\n",
      "Epoch 7/10\n",
      "20000/20000 [==============================] - 52s 3ms/step - loss: 0.1589 - acc: 0.9412 - val_loss: 0.3948 - val_acc: 0.8512\n",
      "Epoch 8/10\n",
      "20000/20000 [==============================] - 53s 3ms/step - loss: 0.1381 - acc: 0.9506 - val_loss: 0.5279 - val_acc: 0.8234\n",
      "Epoch 9/10\n",
      "20000/20000 [==============================] - 50s 2ms/step - loss: 0.1142 - acc: 0.9616 - val_loss: 0.3584 - val_acc: 0.8818\n",
      "Epoch 10/10\n",
      "20000/20000 [==============================] - 51s 3ms/step - loss: 0.0891 - acc: 0.9697 - val_loss: 0.4883 - val_acc: 0.8580\n"
     ]
    }
   ],
   "source": [
    "history = model.fit(X_train, \n",
    "                    y_train, epochs = 10, \n",
    "                    batch_size = 128, \n",
    "                    validation_data=(X_test, y_test),\n",
    "#                     callbacks = [learning_rate_reduction]\n",
    "                   )"
   ]
  },
  {
   "cell_type": "code",
   "execution_count": 17,
   "metadata": {},
   "outputs": [],
   "source": [
    "model.save('model_1_w2v_simple.h5')"
   ]
  },
  {
   "cell_type": "code",
   "execution_count": 18,
   "metadata": {},
   "outputs": [],
   "source": [
    "X_sub = train_test_data[25000:,:]\n",
    "y_pred = model.predict(X_sub)\n",
    "y_pred = y_pred.reshape(-1,)\n",
    "# predictions = [1 if (x>0.5) else 0 for x in y_pred ]\n",
    "predictions = pd.Series(y_pred)\n",
    "ids = raw_test_data['id'].str.replace('\"', '')\n",
    "submission = pd.DataFrame({'id': ids, 'sentiment':predictions})\n",
    "submission.to_csv('submission.csv',index=False)\n",
    "y_preds = model.predict(X_test)\n",
    "y_preds = y_preds.reshape(-1,)\n",
    "x_stack = pd.Series(y_preds)\n",
    "\n",
    "y_stack = pd.Series(y_test)"
   ]
  },
  {
   "cell_type": "code",
   "execution_count": 19,
   "metadata": {},
   "outputs": [],
   "source": [
    "sub_stack = pd.DataFrame({'x_stack': x_stack, 'y_stack':y_stack})\n",
    "sub_stack.to_csv('sub_stack.csv',index=False)"
   ]
  },
  {
   "cell_type": "code",
   "execution_count": 20,
   "metadata": {},
   "outputs": [
    {
     "data": {
      "text/plain": [
       "200000"
      ]
     },
     "execution_count": 20,
     "metadata": {},
     "output_type": "execute_result"
    }
   ],
   "source": [
    "_"
   ]
  }
 ],
 "metadata": {
  "kernelspec": {
   "display_name": "Python 3",
   "language": "python",
   "name": "python3"
  },
  "language_info": {
   "codemirror_mode": {
    "name": "ipython",
    "version": 3
   },
   "file_extension": ".py",
   "mimetype": "text/x-python",
   "name": "python",
   "nbconvert_exporter": "python",
   "pygments_lexer": "ipython3",
   "version": "3.6.4"
  }
 },
 "nbformat": 4,
 "nbformat_minor": 1
}
