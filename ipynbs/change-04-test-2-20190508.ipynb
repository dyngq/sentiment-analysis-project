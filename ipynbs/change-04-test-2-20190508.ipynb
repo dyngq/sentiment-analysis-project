{
 "cells": [
  {
   "cell_type": "code",
   "execution_count": 1,
   "metadata": {
    "_cell_guid": "b1076dfc-b9ad-4769-8c92-a6c4dae69d19",
    "_uuid": "8f2839f25d086af736a60e9eeb907d3b93b6e0e5"
   },
   "outputs": [
    {
     "name": "stderr",
     "output_type": "stream",
     "text": [
      "Using TensorFlow backend.\n",
      "/opt/conda/lib/python3.6/site-packages/smart_open/ssh.py:34: UserWarning: paramiko missing, opening SSH/SCP/SFTP paths will be disabled.  `pip install paramiko` to suppress\n",
      "  warnings.warn('paramiko missing, opening SSH/SCP/SFTP paths will be disabled.  `pip install paramiko` to suppress')\n"
     ]
    }
   ],
   "source": [
    "import numpy as np \n",
    "import pandas as pd \n",
    "import matplotlib.pyplot as plt\n",
    "import seaborn as sns\n",
    "import nltk\n",
    "from nltk.corpus import stopwords                \n",
    "from nltk import word_tokenize, sent_tokenize\n",
    "import re\n",
    "# from nltk.stem import WordNetLemmatizer # 同义词转述\n",
    "from nltk.stem import WordNetLemmatizer # 同义词转述\n",
    "\n",
    "import keras\n",
    "from keras import models\n",
    "from keras.preprocessing.text import one_hot, Tokenizer\n",
    "from keras.preprocessing.sequence import pad_sequences\n",
    "from keras.models import Sequential,load_model\n",
    "from keras.layers import Dense, Flatten, Embedding, LSTM, SpatialDropout1D, Input, Bidirectional,Dropout\n",
    "from keras.layers import Dropout , Activation, GRU, TimeDistributed,Conv1D\n",
    "from keras.layers import Bidirectional, GlobalMaxPool1D,MaxPooling1D\n",
    "from keras.models import Model, Sequential\n",
    "from keras.layers import Convolution1D\n",
    "from keras import initializers, regularizers, constraints, optimizers, layers\n",
    "from sklearn.model_selection import train_test_split\n",
    "from keras.callbacks import EarlyStopping, ReduceLROnPlateau\n",
    "from keras.regularizers import l2\n",
    "\n",
    "from keras import backend as K\n",
    "\n",
    "import gensim\n",
    "from gensim.models import Word2Vec\n",
    "\n",
    "from keras.engine.topology import Layer, InputSpec"
   ]
  },
  {
   "cell_type": "code",
   "execution_count": 2,
   "metadata": {},
   "outputs": [
    {
     "name": "stdout",
     "output_type": "stream",
     "text": [
      "imdb-review-dataset  kumarmanoj-bag-of-words-meets-bags-of-popcorn\r\n"
     ]
    }
   ],
   "source": [
    "!ls '../input/'"
   ]
  },
  {
   "cell_type": "code",
   "execution_count": 3,
   "metadata": {},
   "outputs": [
    {
     "name": "stdout",
     "output_type": "stream",
     "text": [
      "100000\n",
      "100000\n",
      "200000\n"
     ]
    }
   ],
   "source": [
    "# import os\n",
    "# print(os.listdir())\n",
    "\n",
    "raw_train_data_labeled = pd.read_csv(\"../input/kumarmanoj-bag-of-words-meets-bags-of-popcorn/labeledTrainData.tsv\", header=0, delimiter=\"\\t\", quoting=3)\n",
    "raw_train_data_unlabeled = pd.read_csv(\"../input/kumarmanoj-bag-of-words-meets-bags-of-popcorn/unlabeledTrainData.tsv\", header=0, delimiter=\"\\t\", quoting=3)\n",
    "raw_test_data = pd.read_csv(\"../input/kumarmanoj-bag-of-words-meets-bags-of-popcorn/testData.tsv\", header=0, delimiter=\"\\t\", quoting=3)\n",
    "\n",
    "imdb_data = pd.read_csv('../input/imdb-review-dataset/imdb_master.csv',encoding=\"latin-1\", index_col=0)\n",
    "print(len(imdb_data))\n",
    "\n",
    "imdb_data = imdb_data.drop([\"type\",\"file\"],axis=1)\n",
    "imdb_data['sentiment'] = imdb_data['label'].map({\"neg\":0, \"pos\":1})\n",
    "imdb_data = imdb_data.drop([\"label\",'sentiment'],axis=1)\n",
    "# imdb_data = imdb_data.dropna() # 删除缺失数据\n",
    "raw_train_data_labeled = raw_train_data_labeled.drop([\"id\",\"sentiment\"],axis=1)\n",
    "raw_train_data_unlabeled = raw_train_data_unlabeled.drop([\"id\"],axis=1)\n",
    "raw_test_data = raw_test_data.drop([\"id\"],axis=1)\n",
    "# print(raw_test_data.head())\n",
    "# = imdb_data['review']\n",
    "\n",
    "review_data = pd.concat([imdb_data,raw_train_data_unlabeled,raw_train_data_labeled,raw_test_data],ignore_index=True)\n",
    "print(len(imdb_data))\n",
    "print(len(review_data))"
   ]
  },
  {
   "cell_type": "code",
   "execution_count": 4,
   "metadata": {},
   "outputs": [
    {
     "data": {
      "text/plain": [
       "pandas.core.series.Series"
      ]
     },
     "execution_count": 4,
     "metadata": {},
     "output_type": "execute_result"
    }
   ],
   "source": [
    "review_data_2 = imdb_data['review'].append(raw_train_data_unlabeled['review'])\n",
    "review_data_2 = review_data_2.append(raw_train_data_labeled['review'])\n",
    "review_data_2 = review_data_2.append(raw_test_data['review'])\n",
    "\n",
    "type(review_data_2)"
   ]
  },
  {
   "cell_type": "code",
   "execution_count": 5,
   "metadata": {},
   "outputs": [],
   "source": [
    "import string\n",
    "\n",
    "review_lines = list()\n",
    "lines = review_data_2.values.tolist()\n",
    "lemmatizer = WordNetLemmatizer()\n",
    "# i = 1\n",
    "for line in lines:\n",
    "#     i = i + 1\n",
    "    '''\n",
    "    breaks line into it's sub parts like each word and comma etc,\n",
    "    https://pythonspot.com/tokenizing-words-and-sentences-with-nltk/\n",
    "    '''\n",
    "    tokens = word_tokenize(line)   \n",
    "#     print(tokens)\n",
    "     #convert to lower case\n",
    "    tokens = [w.lower() for w in tokens]\n",
    "    tokens = [lemmatizer.lemmatize(token, \"v\") for token in tokens] ## 同义词转述\n",
    "\n",
    "    #remove punctuation from each word\n",
    "    # brief detail: https://pythonadventures.wordpress.com/2017/02/05/remove-punctuations-from-a-text/\n",
    "    table = str.maketrans('','', string.punctuation)\n",
    "    stripped = [w.translate(table) for w in tokens]\n",
    "     \n",
    "    # remove remaining tokens that are not alphabetic\n",
    "    words = [w for w in stripped if w.isalpha()]\n",
    "    \n",
    "    # filter out stop words\n",
    "    stop_words = set(stopwords.words('english'))\n",
    "    words = [w for w in words if ((w not in stop_words)and(w!='br')and(len(w)>1))]\n",
    "    \n",
    "    review_lines.append(words)\n",
    "    \n",
    "#     if (i>5):\n",
    "#         break"
   ]
  },
  {
   "cell_type": "code",
   "execution_count": 6,
   "metadata": {},
   "outputs": [
    {
     "name": "stdout",
     "output_type": "stream",
     "text": [
      "word_2_vector is training ...\n",
      "word_2_vector finished training\n"
     ]
    }
   ],
   "source": [
    "import gensim\n",
    "\n",
    "embedding_vector_size = 150\n",
    "# now training embeddings for each word \n",
    "print('word_2_vector is training ...')\n",
    "model_word_2_vector = gensim.models.Word2Vec(sentences = review_lines, size=embedding_vector_size, min_count=1, window=5, workers=4 )\n",
    "print('word_2_vector finished training')\n",
    "# to get total number of unique words"
   ]
  },
  {
   "cell_type": "code",
   "execution_count": 7,
   "metadata": {},
   "outputs": [],
   "source": [
    "model_word_2_vector.save('../input/model_word_2_vector_02.model')"
   ]
  },
  {
   "cell_type": "code",
   "execution_count": 8,
   "metadata": {},
   "outputs": [
    {
     "data": {
      "text/plain": [
       "list"
      ]
     },
     "execution_count": 8,
     "metadata": {},
     "output_type": "execute_result"
    }
   ],
   "source": [
    "type(review_lines)\n",
    "# review_lines[:2][1]"
   ]
  },
  {
   "cell_type": "code",
   "execution_count": 9,
   "metadata": {},
   "outputs": [
    {
     "name": "stdout",
     "output_type": "stream",
     "text": [
      "vocab size: 193254\n"
     ]
    }
   ],
   "source": [
    "words = list(model_word_2_vector.wv.vocab)\n",
    "\n",
    "print(\"vocab size:\", len(words))"
   ]
  },
  {
   "cell_type": "code",
   "execution_count": 10,
   "metadata": {},
   "outputs": [
    {
     "name": "stdout",
     "output_type": "stream",
     "text": [
      "50000\n"
     ]
    }
   ],
   "source": [
    "review_lines = review_lines[150000:]\n",
    "print(len(review_lines))"
   ]
  },
  {
   "cell_type": "code",
   "execution_count": 11,
   "metadata": {},
   "outputs": [
    {
     "name": "stdout",
     "output_type": "stream",
     "text": [
      "117.8178\n"
     ]
    },
    {
     "data": {
      "image/png": "[encoded data removed]",
      "text/plain": [
       "<Figure size 432x288 with 1 Axes>"
      ]
     },
     "metadata": {},
     "output_type": "display_data"
    }
   ],
   "source": [
    "#len(sequence)\n",
    "leng=0\n",
    "length = [(leng + len(x)) for x in review_lines]\n",
    "plt.hist(length)\n",
    "plt.xlabel('length of words')\n",
    "plt.ylabel('frequency')\n",
    "\n",
    "import math\n",
    "avg_length = sum(length)/len(review_lines)\n",
    "\n",
    "# if words are more than max_length then they are skipped, if less than padding with 0 is done\n",
    "print(avg_length)\n",
    "max_len = math.ceil(avg_length) "
   ]
  },
  {
   "cell_type": "code",
   "execution_count": 12,
   "metadata": {},
   "outputs": [],
   "source": [
    "max_features = 6000\n",
    "tokenizer = Tokenizer(num_words=max_features)       #keeps 6000 most common words\n",
    "train_test_data = review_lines                       # contains word tokens extracted from lines\n",
    "tokenizer.fit_on_texts(train_test_data)\n",
    "sequence = tokenizer.texts_to_sequences(train_test_data)\n",
    "train_test_data = pad_sequences(sequence, maxlen = max_len)\n",
    "\n",
    "# Preparing embedding matrix\n",
    "vocab_size = len(tokenizer.word_index)+1\n",
    "embedding_matrix = np.zeros((vocab_size, embedding_vector_size))\n",
    "# +1 is done because i starts from 1 instead of 0, and goes till len(vocab)\n",
    "for  word, i in tokenizer.word_index.items():\n",
    "    embedding_vector = model_word_2_vector.wv[word]\n",
    "    if embedding_vector is not None:\n",
    "        embedding_matrix[i] = embedding_vector"
   ]
  },
  {
   "cell_type": "code",
   "execution_count": 13,
   "metadata": {},
   "outputs": [
    {
     "name": "stdout",
     "output_type": "stream",
     "text": [
      "25000\n",
      "25000\n"
     ]
    }
   ],
   "source": [
    "raw_train_data_labeled = pd.read_csv(\"../input/kumarmanoj-bag-of-words-meets-bags-of-popcorn/labeledTrainData.tsv\", header=0, delimiter=\"\\t\", quoting=3)\n",
    "raw_test_data = pd.read_csv(\"../input/kumarmanoj-bag-of-words-meets-bags-of-popcorn/testData.tsv\", header=0, delimiter=\"\\t\", quoting=3)\n",
    "\n",
    "\n",
    "print(len(raw_train_data_labeled))\n",
    "print(len(raw_test_data))\n",
    "\n",
    "X_train = train_test_data[5000:25000,:]\n",
    "X_test = train_test_data[:5000,:]\n",
    "# X = X.reshape(-1,123)\n",
    "y_train = raw_train_data_labeled['sentiment'][5000:25000]\n",
    "y_test = raw_train_data_labeled['sentiment'][:5000]"
   ]
  },
  {
   "cell_type": "code",
   "execution_count": 14,
   "metadata": {},
   "outputs": [],
   "source": [
    "class AttLayer(Layer):\n",
    "    def __init__(self, **kwargs):\n",
    "        super(AttLayer, self).__init__(** kwargs)\n",
    "\n",
    "    def build(self, input_shape):\n",
    "        assert len(input_shape)==3\n",
    "        # W.shape = (time_steps, time_steps)\n",
    "        self.W = self.add_weight(name='att_weight', \n",
    "                                 shape=(input_shape[1], input_shape[1]),\n",
    "                                 initializer='uniform',\n",
    "                                 trainable=True)\n",
    "        self.b = self.add_weight(name='att_bias', \n",
    "                                 shape=(input_shape[1],),\n",
    "                                 initializer='uniform',\n",
    "                                 trainable=True)\n",
    "        super(AttLayer, self).build(input_shape)\n",
    "\n",
    "    def call(self, inputs):\n",
    "        # inputs.shape = (batch_size, time_steps, seq_len)\n",
    "        x = K.permute_dimensions(inputs, (0, 2, 1))\n",
    "        # x.shape = (batch_size, seq_len, time_steps)\n",
    "        a = K.softmax(K.tanh(K.dot(x, self.W) + self.b))\n",
    "        outputs = K.permute_dimensions(a * x, (0, 2, 1))\n",
    "        outputs = K.sum(outputs, axis=1)\n",
    "        return outputs\n",
    "\n",
    "    def compute_output_shape(self, input_shape):\n",
    "        return input_shape[0], input_shape[2]"
   ]
  },
  {
   "cell_type": "code",
   "execution_count": 15,
   "metadata": {},
   "outputs": [
    {
     "name": "stdout",
     "output_type": "stream",
     "text": [
      "WARNING:tensorflow:From /opt/conda/lib/python3.6/site-packages/tensorflow/python/framework/op_def_library.py:263: colocate_with (from tensorflow.python.framework.ops) is deprecated and will be removed in a future version.\n",
      "Instructions for updating:\n",
      "Colocations handled automatically by placer.\n",
      "WARNING:tensorflow:From /opt/conda/lib/python3.6/site-packages/keras/backend/tensorflow_backend.py:3445: calling dropout (from tensorflow.python.ops.nn_ops) with keep_prob is deprecated and will be removed in a future version.\n",
      "Instructions for updating:\n",
      "Please use `rate` instead of `keep_prob`. Rate should be set to `rate = 1 - keep_prob`.\n",
      "_________________________________________________________________\n",
      "Layer (type)                 Output Shape              Param #   \n",
      "=================================================================\n",
      "input_1 (InputLayer)         (None, 118)               0         \n",
      "_________________________________________________________________\n",
      "embedding_1 (Embedding)      (None, 118, 150)          18702000  \n",
      "_________________________________________________________________\n",
      "conv1d_1 (Conv1D)            (None, 114, 32)           24032     \n",
      "_________________________________________________________________\n",
      "max_pooling1d_1 (MaxPooling1 (None, 38, 32)            0         \n",
      "_________________________________________________________________\n",
      "conv1d_2 (Conv1D)            (None, 34, 32)            5152      \n",
      "_________________________________________________________________\n",
      "bidirectional_1 (Bidirection (None, 34, 200)           79800     \n",
      "_________________________________________________________________\n",
      "att_layer_1 (AttLayer)       (None, 200)               1190      \n",
      "_________________________________________________________________\n",
      "dense_1 (Dense)              (None, 1)                 201       \n",
      "=================================================================\n",
      "Total params: 18,812,375\n",
      "Trainable params: 18,812,375\n",
      "Non-trainable params: 0\n",
      "_________________________________________________________________\n",
      "None\n"
     ]
    }
   ],
   "source": [
    "sequence_input = Input(shape=(max_len,), dtype='int32')\n",
    "embedded_sequences = Embedding(vocab_size,\n",
    "                            embedding_vector_size,\n",
    "                            weights=[embedding_matrix],\n",
    "                            input_length=max_len,\n",
    "                            trainable= True )(sequence_input)\n",
    "l_conv1 = Conv1D(32,5,activation='relu')(embedded_sequences)\n",
    "l_pool1 = MaxPooling1D(3)(l_conv1)\n",
    "l_conv2 = Conv1D(32,5,activation='relu')(l_pool1)\n",
    "l_gru = Bidirectional(GRU(100, dropout = 0.1, recurrent_dropout=0.1, return_sequences=True))(l_conv2)\n",
    "l_att = AttLayer()(l_gru)\n",
    "# l_drop = Dropout(0.1)\n",
    "# l_den = Dense(20, activation='relu')(l_att)\n",
    "preds = Dense(1, activation='sigmoid')(l_att)\n",
    "model = Model(sequence_input, preds)\n",
    "\n",
    "# model.compile(loss='binary_crossentropy',\n",
    "#               optimizer='rmsprop',\n",
    "#               metrics=['acc'])\n",
    "\n",
    "# model.summary()\n",
    "\n",
    "learning_rate_reduction = ReduceLROnPlateau(monitor='val_acc', \n",
    "                                            patience=3, \n",
    "                                            verbose=1, \n",
    "                                            factor=0.5, \n",
    "                                            min_lr=0.00001)\n",
    "model.compile(optimizer='RMSprop', loss='binary_crossentropy', metrics=['acc'])\n",
    "print(model.summary())"
   ]
  },
  {
   "cell_type": "code",
   "execution_count": 16,
   "metadata": {},
   "outputs": [
    {
     "name": "stdout",
     "output_type": "stream",
     "text": [
      "WARNING:tensorflow:From /opt/conda/lib/python3.6/site-packages/tensorflow/python/ops/math_ops.py:3066: to_int32 (from tensorflow.python.ops.math_ops) is deprecated and will be removed in a future version.\n",
      "Instructions for updating:\n",
      "Use tf.cast instead.\n",
      "Train on 20000 samples, validate on 5000 samples\n",
      "Epoch 1/30\n",
      "20000/20000 [==============================] - 29s 1ms/step - loss: 0.4503 - acc: 0.7941 - val_loss: 0.3312 - val_acc: 0.8552\n",
      "Epoch 2/30\n",
      "20000/20000 [==============================] - 24s 1ms/step - loss: 0.3310 - acc: 0.8595 - val_loss: 0.3071 - val_acc: 0.8662\n",
      "Epoch 3/30\n",
      "20000/20000 [==============================] - 23s 1ms/step - loss: 0.2931 - acc: 0.8794 - val_loss: 0.3130 - val_acc: 0.8644\n",
      "Epoch 4/30\n",
      "20000/20000 [==============================] - 23s 1ms/step - loss: 0.2620 - acc: 0.8944 - val_loss: 0.2811 - val_acc: 0.8780\n",
      "Epoch 5/30\n",
      "20000/20000 [==============================] - 23s 1ms/step - loss: 0.2367 - acc: 0.9067 - val_loss: 0.2858 - val_acc: 0.8794\n",
      "Epoch 6/30\n",
      "20000/20000 [==============================] - 23s 1ms/step - loss: 0.2091 - acc: 0.9185 - val_loss: 0.3800 - val_acc: 0.8428\n",
      "Epoch 7/30\n",
      "20000/20000 [==============================] - 23s 1ms/step - loss: 0.1806 - acc: 0.9294 - val_loss: 0.2944 - val_acc: 0.8800\n",
      "Epoch 8/30\n",
      "20000/20000 [==============================] - 23s 1ms/step - loss: 0.1523 - acc: 0.9440 - val_loss: 0.3167 - val_acc: 0.8822\n",
      "Epoch 9/30\n",
      "20000/20000 [==============================] - 24s 1ms/step - loss: 0.1270 - acc: 0.9540 - val_loss: 0.3872 - val_acc: 0.8648\n",
      "Epoch 10/30\n",
      "20000/20000 [==============================] - 23s 1ms/step - loss: 0.1009 - acc: 0.9645 - val_loss: 0.3891 - val_acc: 0.8700\n",
      "Epoch 11/30\n",
      "20000/20000 [==============================] - 23s 1ms/step - loss: 0.0809 - acc: 0.9726 - val_loss: 0.4394 - val_acc: 0.8726\n",
      "\n",
      "Epoch 00011: ReduceLROnPlateau reducing learning rate to 0.0005000000237487257.\n",
      "Epoch 12/30\n",
      "20000/20000 [==============================] - 23s 1ms/step - loss: 0.0357 - acc: 0.9904 - val_loss: 0.5103 - val_acc: 0.8746\n",
      "Epoch 13/30\n",
      "20000/20000 [==============================] - 23s 1ms/step - loss: 0.0236 - acc: 0.9940 - val_loss: 0.6741 - val_acc: 0.8584\n",
      "Epoch 14/30\n",
      "20000/20000 [==============================] - 24s 1ms/step - loss: 0.0175 - acc: 0.9960 - val_loss: 0.6664 - val_acc: 0.8688\n",
      "\n",
      "Epoch 00014: ReduceLROnPlateau reducing learning rate to 0.0002500000118743628.\n",
      "Epoch 15/30\n",
      "20000/20000 [==============================] - 23s 1ms/step - loss: 0.0100 - acc: 0.9977 - val_loss: 0.6980 - val_acc: 0.8730\n",
      "Epoch 16/30\n",
      "20000/20000 [==============================] - 23s 1ms/step - loss: 0.0092 - acc: 0.9981 - val_loss: 0.7204 - val_acc: 0.8668\n",
      "Epoch 17/30\n",
      "20000/20000 [==============================] - 24s 1ms/step - loss: 0.0074 - acc: 0.9986 - val_loss: 0.7962 - val_acc: 0.8680\n",
      "\n",
      "Epoch 00017: ReduceLROnPlateau reducing learning rate to 0.0001250000059371814.\n",
      "Epoch 18/30\n",
      "20000/20000 [==============================] - 29s 1ms/step - loss: 0.0051 - acc: 0.9992 - val_loss: 0.8297 - val_acc: 0.8700\n",
      "Epoch 19/30\n",
      "20000/20000 [==============================] - 23s 1ms/step - loss: 0.0048 - acc: 0.9992 - val_loss: 0.8579 - val_acc: 0.8678\n",
      "Epoch 20/30\n",
      "20000/20000 [==============================] - 23s 1ms/step - loss: 0.0041 - acc: 0.9993 - val_loss: 0.8747 - val_acc: 0.8682\n",
      "\n",
      "Epoch 00020: ReduceLROnPlateau reducing learning rate to 6.25000029685907e-05.\n",
      "Epoch 21/30\n",
      "20000/20000 [==============================] - 23s 1ms/step - loss: 0.0039 - acc: 0.9992 - val_loss: 0.8780 - val_acc: 0.8650\n",
      "Epoch 22/30\n",
      "20000/20000 [==============================] - 23s 1ms/step - loss: 0.0036 - acc: 0.9994 - val_loss: 0.8927 - val_acc: 0.8684\n",
      "Epoch 23/30\n",
      "20000/20000 [==============================] - 23s 1ms/step - loss: 0.0038 - acc: 0.9995 - val_loss: 0.8965 - val_acc: 0.8674\n",
      "\n",
      "Epoch 00023: ReduceLROnPlateau reducing learning rate to 3.125000148429535e-05.\n",
      "Epoch 24/30\n",
      "20000/20000 [==============================] - 23s 1ms/step - loss: 0.0031 - acc: 0.9995 - val_loss: 0.9033 - val_acc: 0.8678\n",
      "Epoch 25/30\n",
      "20000/20000 [==============================] - 23s 1ms/step - loss: 0.0029 - acc: 0.9996 - val_loss: 0.9151 - val_acc: 0.8668\n",
      "Epoch 26/30\n",
      "20000/20000 [==============================] - 23s 1ms/step - loss: 0.0028 - acc: 0.9995 - val_loss: 0.9219 - val_acc: 0.8694\n",
      "\n",
      "Epoch 00026: ReduceLROnPlateau reducing learning rate to 1.5625000742147677e-05.\n",
      "Epoch 27/30\n",
      "20000/20000 [==============================] - 23s 1ms/step - loss: 0.0027 - acc: 0.9996 - val_loss: 0.9247 - val_acc: 0.8666\n",
      "Epoch 28/30\n",
      "20000/20000 [==============================] - 23s 1ms/step - loss: 0.0027 - acc: 0.9996 - val_loss: 0.9289 - val_acc: 0.8674\n",
      "Epoch 29/30\n",
      "20000/20000 [==============================] - 23s 1ms/step - loss: 0.0025 - acc: 0.9996 - val_loss: 0.9366 - val_acc: 0.8668\n",
      "\n",
      "Epoch 00029: ReduceLROnPlateau reducing learning rate to 1e-05.\n",
      "Epoch 30/30\n",
      "20000/20000 [==============================] - 23s 1ms/step - loss: 0.0027 - acc: 0.9996 - val_loss: 0.9372 - val_acc: 0.8664\n"
     ]
    }
   ],
   "source": [
    "history = model.fit(X_train, \n",
    "                    y_train, epochs = 30, \n",
    "                    batch_size = 128, \n",
    "                    validation_data=(X_test, y_test),\n",
    "                    callbacks = [learning_rate_reduction]\n",
    "                   )"
   ]
  },
  {
   "cell_type": "code",
   "execution_count": 17,
   "metadata": {},
   "outputs": [],
   "source": [
    "model.save('model_1_w2v_simple.h5')"
   ]
  },
  {
   "cell_type": "code",
   "execution_count": 18,
   "metadata": {},
   "outputs": [],
   "source": [
    "X_sub = train_test_data[25000:,:]\n",
    "y_pred = model.predict(X_sub)\n",
    "y_pred = y_pred.reshape(-1,)\n",
    "# predictions = [1 if (x>0.5) else 0 for x in y_pred ]\n",
    "predictions = pd.Series(y_pred)\n",
    "ids = raw_test_data['id'].str.replace('\"', '')\n",
    "submission = pd.DataFrame({'id': ids, 'sentiment':predictions})\n",
    "submission.to_csv('submission.csv',index=False)\n",
    "y_preds = model.predict(X_test)\n",
    "y_preds = y_preds.reshape(-1,)\n",
    "x_stack = pd.Series(y_preds)\n",
    "\n",
    "y_stack = pd.Series(y_test)"
   ]
  },
  {
   "cell_type": "code",
   "execution_count": 19,
   "metadata": {},
   "outputs": [],
   "source": [
    "sub_stack = pd.DataFrame({'x_stack': x_stack, 'y_stack':y_stack})\n",
    "sub_stack.to_csv('sub_stack.csv',index=False)"
   ]
  },
  {
   "cell_type": "code",
   "execution_count": 20,
   "metadata": {},
   "outputs": [
    {
     "data": {
      "text/plain": [
       "list"
      ]
     },
     "execution_count": 20,
     "metadata": {},
     "output_type": "execute_result"
    }
   ],
   "source": [
    "_"
   ]
  }
 ],
 "metadata": {
  "kernelspec": {
   "display_name": "Python 3",
   "language": "python",
   "name": "python3"
  },
  "language_info": {
   "codemirror_mode": {
    "name": "ipython",
    "version": 3
   },
   "file_extension": ".py",
   "mimetype": "text/x-python",
   "name": "python",
   "nbconvert_exporter": "python",
   "pygments_lexer": "ipython3",
   "version": "3.6.4"
  }
 },
 "nbformat": 4,
 "nbformat_minor": 1
}
